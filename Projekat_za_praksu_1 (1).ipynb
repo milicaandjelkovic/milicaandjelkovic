{
  "nbformat": 4,
  "nbformat_minor": 0,
  "metadata": {
    "colab": {
      "name": "Projekat za praksu 1.ipynb",
      "provenance": [],
      "collapsed_sections": []
    },
    "kernelspec": {
      "name": "python3",
      "display_name": "Python 3"
    },
    "language_info": {
      "name": "python"
    }
  },
  "cells": [
    {
      "cell_type": "markdown",
      "source": [
        "###Business understanding\n",
        "In this section we will be getting to know our main problem and goal."
      ],
      "metadata": {
        "id": "QqE3FMUiAcor"
      }
    },
    {
      "cell_type": "markdown",
      "source": [
        "Data contains:\n",
        "\n",
        "TV promotion budget (in million)\n",
        "\n",
        "Social Media promotion budget (in million)\n",
        "\n",
        "Radio promotion budget (in million)\n",
        "\n",
        "Influencer: Whether the promotion collaborate with Mega, Macro, Nano, Micro influencer\n",
        "\n",
        "Sales (in million)\n",
        "\n",
        "Our main purpose is to determine wether and how variables TV promotion budget, Social Media promotion budget, Radio promotion budget and Influencer affect Sales. "
      ],
      "metadata": {
        "id": "khs69FVBRIRr"
      }
    },
    {
      "cell_type": "markdown",
      "source": [
        "###Data understanding\n",
        "In this section we will be downloading our dataset and getting to know with whitch variables and data we dispose of."
      ],
      "metadata": {
        "id": "A1K0Z-rFBakN"
      }
    },
    {
      "cell_type": "code",
      "execution_count": 2,
      "metadata": {
        "id": "M4ZLh0tRPX-_"
      },
      "outputs": [],
      "source": [
        "#Firstly, we are going to load some libraries that are going to help us in modeling our problem\n",
        "import numpy as np\n",
        "import pandas as pd\n",
        "import seaborn as sns\n",
        "import matplotlib.pyplot as plt\n",
        "%matplotlib inline\n",
        "from sklearn.model_selection import train_test_split\n",
        "from sklearn.linear_model import LinearRegression\n",
        "from scipy.stats import chisquare, anderson"
      ]
    },
    {
      "cell_type": "code",
      "source": [
        "#First step is to load our data set\n",
        "df = pd.read_csv('Dummy Data HSS-1.csv')"
      ],
      "metadata": {
        "id": "63u2puDCQiTy"
      },
      "execution_count": 3,
      "outputs": []
    },
    {
      "cell_type": "code",
      "source": [
        "#Second step is to print head of our dataset to get to know how our data looks like\n",
        "df.head()"
      ],
      "metadata": {
        "colab": {
          "base_uri": "https://localhost:8080/",
          "height": 206
        },
        "id": "bPseZt7QQqAP",
        "outputId": "3a74d7a9-5795-4015-800f-d48cae4eb47f"
      },
      "execution_count": 4,
      "outputs": [
        {
          "output_type": "execute_result",
          "data": {
            "text/plain": [
              "     TV      Radio  Social Media Influencer       Sales\n",
              "0  16.0   6.566231      2.907983       Mega   54.732757\n",
              "1  13.0   9.237765      2.409567       Mega   46.677897\n",
              "2  41.0  15.886446      2.913410       Mega  150.177829\n",
              "3  83.0  30.020028      6.922304       Mega  298.246340\n",
              "4  15.0   8.437408      1.405998      Micro   56.594181"
            ],
            "text/html": [
              "\n",
              "  <div id=\"df-0d2242bd-3e49-45ac-87e8-94759b0562b3\">\n",
              "    <div class=\"colab-df-container\">\n",
              "      <div>\n",
              "<style scoped>\n",
              "    .dataframe tbody tr th:only-of-type {\n",
              "        vertical-align: middle;\n",
              "    }\n",
              "\n",
              "    .dataframe tbody tr th {\n",
              "        vertical-align: top;\n",
              "    }\n",
              "\n",
              "    .dataframe thead th {\n",
              "        text-align: right;\n",
              "    }\n",
              "</style>\n",
              "<table border=\"1\" class=\"dataframe\">\n",
              "  <thead>\n",
              "    <tr style=\"text-align: right;\">\n",
              "      <th></th>\n",
              "      <th>TV</th>\n",
              "      <th>Radio</th>\n",
              "      <th>Social Media</th>\n",
              "      <th>Influencer</th>\n",
              "      <th>Sales</th>\n",
              "    </tr>\n",
              "  </thead>\n",
              "  <tbody>\n",
              "    <tr>\n",
              "      <th>0</th>\n",
              "      <td>16.0</td>\n",
              "      <td>6.566231</td>\n",
              "      <td>2.907983</td>\n",
              "      <td>Mega</td>\n",
              "      <td>54.732757</td>\n",
              "    </tr>\n",
              "    <tr>\n",
              "      <th>1</th>\n",
              "      <td>13.0</td>\n",
              "      <td>9.237765</td>\n",
              "      <td>2.409567</td>\n",
              "      <td>Mega</td>\n",
              "      <td>46.677897</td>\n",
              "    </tr>\n",
              "    <tr>\n",
              "      <th>2</th>\n",
              "      <td>41.0</td>\n",
              "      <td>15.886446</td>\n",
              "      <td>2.913410</td>\n",
              "      <td>Mega</td>\n",
              "      <td>150.177829</td>\n",
              "    </tr>\n",
              "    <tr>\n",
              "      <th>3</th>\n",
              "      <td>83.0</td>\n",
              "      <td>30.020028</td>\n",
              "      <td>6.922304</td>\n",
              "      <td>Mega</td>\n",
              "      <td>298.246340</td>\n",
              "    </tr>\n",
              "    <tr>\n",
              "      <th>4</th>\n",
              "      <td>15.0</td>\n",
              "      <td>8.437408</td>\n",
              "      <td>1.405998</td>\n",
              "      <td>Micro</td>\n",
              "      <td>56.594181</td>\n",
              "    </tr>\n",
              "  </tbody>\n",
              "</table>\n",
              "</div>\n",
              "      <button class=\"colab-df-convert\" onclick=\"convertToInteractive('df-0d2242bd-3e49-45ac-87e8-94759b0562b3')\"\n",
              "              title=\"Convert this dataframe to an interactive table.\"\n",
              "              style=\"display:none;\">\n",
              "        \n",
              "  <svg xmlns=\"http://www.w3.org/2000/svg\" height=\"24px\"viewBox=\"0 0 24 24\"\n",
              "       width=\"24px\">\n",
              "    <path d=\"M0 0h24v24H0V0z\" fill=\"none\"/>\n",
              "    <path d=\"M18.56 5.44l.94 2.06.94-2.06 2.06-.94-2.06-.94-.94-2.06-.94 2.06-2.06.94zm-11 1L8.5 8.5l.94-2.06 2.06-.94-2.06-.94L8.5 2.5l-.94 2.06-2.06.94zm10 10l.94 2.06.94-2.06 2.06-.94-2.06-.94-.94-2.06-.94 2.06-2.06.94z\"/><path d=\"M17.41 7.96l-1.37-1.37c-.4-.4-.92-.59-1.43-.59-.52 0-1.04.2-1.43.59L10.3 9.45l-7.72 7.72c-.78.78-.78 2.05 0 2.83L4 21.41c.39.39.9.59 1.41.59.51 0 1.02-.2 1.41-.59l7.78-7.78 2.81-2.81c.8-.78.8-2.07 0-2.86zM5.41 20L4 18.59l7.72-7.72 1.47 1.35L5.41 20z\"/>\n",
              "  </svg>\n",
              "      </button>\n",
              "      \n",
              "  <style>\n",
              "    .colab-df-container {\n",
              "      display:flex;\n",
              "      flex-wrap:wrap;\n",
              "      gap: 12px;\n",
              "    }\n",
              "\n",
              "    .colab-df-convert {\n",
              "      background-color: #E8F0FE;\n",
              "      border: none;\n",
              "      border-radius: 50%;\n",
              "      cursor: pointer;\n",
              "      display: none;\n",
              "      fill: #1967D2;\n",
              "      height: 32px;\n",
              "      padding: 0 0 0 0;\n",
              "      width: 32px;\n",
              "    }\n",
              "\n",
              "    .colab-df-convert:hover {\n",
              "      background-color: #E2EBFA;\n",
              "      box-shadow: 0px 1px 2px rgba(60, 64, 67, 0.3), 0px 1px 3px 1px rgba(60, 64, 67, 0.15);\n",
              "      fill: #174EA6;\n",
              "    }\n",
              "\n",
              "    [theme=dark] .colab-df-convert {\n",
              "      background-color: #3B4455;\n",
              "      fill: #D2E3FC;\n",
              "    }\n",
              "\n",
              "    [theme=dark] .colab-df-convert:hover {\n",
              "      background-color: #434B5C;\n",
              "      box-shadow: 0px 1px 3px 1px rgba(0, 0, 0, 0.15);\n",
              "      filter: drop-shadow(0px 1px 2px rgba(0, 0, 0, 0.3));\n",
              "      fill: #FFFFFF;\n",
              "    }\n",
              "  </style>\n",
              "\n",
              "      <script>\n",
              "        const buttonEl =\n",
              "          document.querySelector('#df-0d2242bd-3e49-45ac-87e8-94759b0562b3 button.colab-df-convert');\n",
              "        buttonEl.style.display =\n",
              "          google.colab.kernel.accessAllowed ? 'block' : 'none';\n",
              "\n",
              "        async function convertToInteractive(key) {\n",
              "          const element = document.querySelector('#df-0d2242bd-3e49-45ac-87e8-94759b0562b3');\n",
              "          const dataTable =\n",
              "            await google.colab.kernel.invokeFunction('convertToInteractive',\n",
              "                                                     [key], {});\n",
              "          if (!dataTable) return;\n",
              "\n",
              "          const docLinkHtml = 'Like what you see? Visit the ' +\n",
              "            '<a target=\"_blank\" href=https://colab.research.google.com/notebooks/data_table.ipynb>data table notebook</a>'\n",
              "            + ' to learn more about interactive tables.';\n",
              "          element.innerHTML = '';\n",
              "          dataTable['output_type'] = 'display_data';\n",
              "          await google.colab.output.renderOutput(dataTable, element);\n",
              "          const docLink = document.createElement('div');\n",
              "          docLink.innerHTML = docLinkHtml;\n",
              "          element.appendChild(docLink);\n",
              "        }\n",
              "      </script>\n",
              "    </div>\n",
              "  </div>\n",
              "  "
            ]
          },
          "metadata": {},
          "execution_count": 4
        }
      ]
    },
    {
      "cell_type": "code",
      "source": [
        "#So is to be done with the last few of our lines\n",
        "df.tail()"
      ],
      "metadata": {
        "colab": {
          "base_uri": "https://localhost:8080/",
          "height": 206
        },
        "id": "mvv-J3PCQtWY",
        "outputId": "0f586ecd-84a9-4863-94d0-ecfc41699690"
      },
      "execution_count": 5,
      "outputs": [
        {
          "output_type": "execute_result",
          "data": {
            "text/plain": [
              "        TV      Radio  Social Media Influencer       Sales\n",
              "4567  26.0   4.472360      0.717090      Micro   94.685866\n",
              "4568  71.0  20.610685      6.545573       Nano  249.101915\n",
              "4569  44.0  19.800072      5.096192      Micro  163.631457\n",
              "4570  71.0  17.534640      1.940873      Macro  253.610411\n",
              "4571  42.0  15.966688      5.046548      Micro  148.202414"
            ],
            "text/html": [
              "\n",
              "  <div id=\"df-2a904123-c8a9-4b35-9c9c-814decc4d3f8\">\n",
              "    <div class=\"colab-df-container\">\n",
              "      <div>\n",
              "<style scoped>\n",
              "    .dataframe tbody tr th:only-of-type {\n",
              "        vertical-align: middle;\n",
              "    }\n",
              "\n",
              "    .dataframe tbody tr th {\n",
              "        vertical-align: top;\n",
              "    }\n",
              "\n",
              "    .dataframe thead th {\n",
              "        text-align: right;\n",
              "    }\n",
              "</style>\n",
              "<table border=\"1\" class=\"dataframe\">\n",
              "  <thead>\n",
              "    <tr style=\"text-align: right;\">\n",
              "      <th></th>\n",
              "      <th>TV</th>\n",
              "      <th>Radio</th>\n",
              "      <th>Social Media</th>\n",
              "      <th>Influencer</th>\n",
              "      <th>Sales</th>\n",
              "    </tr>\n",
              "  </thead>\n",
              "  <tbody>\n",
              "    <tr>\n",
              "      <th>4567</th>\n",
              "      <td>26.0</td>\n",
              "      <td>4.472360</td>\n",
              "      <td>0.717090</td>\n",
              "      <td>Micro</td>\n",
              "      <td>94.685866</td>\n",
              "    </tr>\n",
              "    <tr>\n",
              "      <th>4568</th>\n",
              "      <td>71.0</td>\n",
              "      <td>20.610685</td>\n",
              "      <td>6.545573</td>\n",
              "      <td>Nano</td>\n",
              "      <td>249.101915</td>\n",
              "    </tr>\n",
              "    <tr>\n",
              "      <th>4569</th>\n",
              "      <td>44.0</td>\n",
              "      <td>19.800072</td>\n",
              "      <td>5.096192</td>\n",
              "      <td>Micro</td>\n",
              "      <td>163.631457</td>\n",
              "    </tr>\n",
              "    <tr>\n",
              "      <th>4570</th>\n",
              "      <td>71.0</td>\n",
              "      <td>17.534640</td>\n",
              "      <td>1.940873</td>\n",
              "      <td>Macro</td>\n",
              "      <td>253.610411</td>\n",
              "    </tr>\n",
              "    <tr>\n",
              "      <th>4571</th>\n",
              "      <td>42.0</td>\n",
              "      <td>15.966688</td>\n",
              "      <td>5.046548</td>\n",
              "      <td>Micro</td>\n",
              "      <td>148.202414</td>\n",
              "    </tr>\n",
              "  </tbody>\n",
              "</table>\n",
              "</div>\n",
              "      <button class=\"colab-df-convert\" onclick=\"convertToInteractive('df-2a904123-c8a9-4b35-9c9c-814decc4d3f8')\"\n",
              "              title=\"Convert this dataframe to an interactive table.\"\n",
              "              style=\"display:none;\">\n",
              "        \n",
              "  <svg xmlns=\"http://www.w3.org/2000/svg\" height=\"24px\"viewBox=\"0 0 24 24\"\n",
              "       width=\"24px\">\n",
              "    <path d=\"M0 0h24v24H0V0z\" fill=\"none\"/>\n",
              "    <path d=\"M18.56 5.44l.94 2.06.94-2.06 2.06-.94-2.06-.94-.94-2.06-.94 2.06-2.06.94zm-11 1L8.5 8.5l.94-2.06 2.06-.94-2.06-.94L8.5 2.5l-.94 2.06-2.06.94zm10 10l.94 2.06.94-2.06 2.06-.94-2.06-.94-.94-2.06-.94 2.06-2.06.94z\"/><path d=\"M17.41 7.96l-1.37-1.37c-.4-.4-.92-.59-1.43-.59-.52 0-1.04.2-1.43.59L10.3 9.45l-7.72 7.72c-.78.78-.78 2.05 0 2.83L4 21.41c.39.39.9.59 1.41.59.51 0 1.02-.2 1.41-.59l7.78-7.78 2.81-2.81c.8-.78.8-2.07 0-2.86zM5.41 20L4 18.59l7.72-7.72 1.47 1.35L5.41 20z\"/>\n",
              "  </svg>\n",
              "      </button>\n",
              "      \n",
              "  <style>\n",
              "    .colab-df-container {\n",
              "      display:flex;\n",
              "      flex-wrap:wrap;\n",
              "      gap: 12px;\n",
              "    }\n",
              "\n",
              "    .colab-df-convert {\n",
              "      background-color: #E8F0FE;\n",
              "      border: none;\n",
              "      border-radius: 50%;\n",
              "      cursor: pointer;\n",
              "      display: none;\n",
              "      fill: #1967D2;\n",
              "      height: 32px;\n",
              "      padding: 0 0 0 0;\n",
              "      width: 32px;\n",
              "    }\n",
              "\n",
              "    .colab-df-convert:hover {\n",
              "      background-color: #E2EBFA;\n",
              "      box-shadow: 0px 1px 2px rgba(60, 64, 67, 0.3), 0px 1px 3px 1px rgba(60, 64, 67, 0.15);\n",
              "      fill: #174EA6;\n",
              "    }\n",
              "\n",
              "    [theme=dark] .colab-df-convert {\n",
              "      background-color: #3B4455;\n",
              "      fill: #D2E3FC;\n",
              "    }\n",
              "\n",
              "    [theme=dark] .colab-df-convert:hover {\n",
              "      background-color: #434B5C;\n",
              "      box-shadow: 0px 1px 3px 1px rgba(0, 0, 0, 0.15);\n",
              "      filter: drop-shadow(0px 1px 2px rgba(0, 0, 0, 0.3));\n",
              "      fill: #FFFFFF;\n",
              "    }\n",
              "  </style>\n",
              "\n",
              "      <script>\n",
              "        const buttonEl =\n",
              "          document.querySelector('#df-2a904123-c8a9-4b35-9c9c-814decc4d3f8 button.colab-df-convert');\n",
              "        buttonEl.style.display =\n",
              "          google.colab.kernel.accessAllowed ? 'block' : 'none';\n",
              "\n",
              "        async function convertToInteractive(key) {\n",
              "          const element = document.querySelector('#df-2a904123-c8a9-4b35-9c9c-814decc4d3f8');\n",
              "          const dataTable =\n",
              "            await google.colab.kernel.invokeFunction('convertToInteractive',\n",
              "                                                     [key], {});\n",
              "          if (!dataTable) return;\n",
              "\n",
              "          const docLinkHtml = 'Like what you see? Visit the ' +\n",
              "            '<a target=\"_blank\" href=https://colab.research.google.com/notebooks/data_table.ipynb>data table notebook</a>'\n",
              "            + ' to learn more about interactive tables.';\n",
              "          element.innerHTML = '';\n",
              "          dataTable['output_type'] = 'display_data';\n",
              "          await google.colab.output.renderOutput(dataTable, element);\n",
              "          const docLink = document.createElement('div');\n",
              "          docLink.innerHTML = docLinkHtml;\n",
              "          element.appendChild(docLink);\n",
              "        }\n",
              "      </script>\n",
              "    </div>\n",
              "  </div>\n",
              "  "
            ]
          },
          "metadata": {},
          "execution_count": 5
        }
      ]
    },
    {
      "cell_type": "code",
      "source": [
        "#Third step is to print general information about our dataset, for example what are our columns, how many nonull values we have,\n",
        "#what is the type of our data etc.\n",
        "df.info()"
      ],
      "metadata": {
        "colab": {
          "base_uri": "https://localhost:8080/"
        },
        "id": "BdiRLxLVQwU_",
        "outputId": "30923594-a45a-4731-e8af-04bf9fc469c3"
      },
      "execution_count": 6,
      "outputs": [
        {
          "output_type": "stream",
          "name": "stdout",
          "text": [
            "<class 'pandas.core.frame.DataFrame'>\n",
            "RangeIndex: 4572 entries, 0 to 4571\n",
            "Data columns (total 5 columns):\n",
            " #   Column        Non-Null Count  Dtype  \n",
            "---  ------        --------------  -----  \n",
            " 0   TV            4562 non-null   float64\n",
            " 1   Radio         4568 non-null   float64\n",
            " 2   Social Media  4566 non-null   float64\n",
            " 3   Influencer    4572 non-null   object \n",
            " 4   Sales         4566 non-null   float64\n",
            "dtypes: float64(4), object(1)\n",
            "memory usage: 178.7+ KB\n"
          ]
        }
      ]
    },
    {
      "cell_type": "code",
      "source": [
        "#We have to check the size of our dataset, that is, how many columns and rows do we have.\n",
        "df.shape"
      ],
      "metadata": {
        "colab": {
          "base_uri": "https://localhost:8080/"
        },
        "id": "L-QewY0lQzcI",
        "outputId": "fa080123-fc6e-4eea-c263-fec74db0e32c"
      },
      "execution_count": 7,
      "outputs": [
        {
          "output_type": "execute_result",
          "data": {
            "text/plain": [
              "(4572, 5)"
            ]
          },
          "metadata": {},
          "execution_count": 7
        }
      ]
    },
    {
      "cell_type": "code",
      "source": [
        "#We use describe function to see basic statistics of our variables.\n",
        "df.describe()"
      ],
      "metadata": {
        "colab": {
          "base_uri": "https://localhost:8080/",
          "height": 300
        },
        "id": "cBs_C0mMyR8b",
        "outputId": "f3812fc4-432f-481b-af1e-7936f689c11a"
      },
      "execution_count": 62,
      "outputs": [
        {
          "output_type": "execute_result",
          "data": {
            "text/plain": [
              "                TV        Radio  Social Media        Sales\n",
              "count  4546.000000  4546.000000   4546.000000  4546.000000\n",
              "mean     54.062912    18.157533      3.323473   192.413332\n",
              "std      26.104942     9.663260      2.211254    93.019873\n",
              "min      10.000000     0.000684      0.000031    31.199409\n",
              "25%      32.000000    10.555355      1.530822   112.434612\n",
              "50%      53.000000    17.859513      3.055565   188.963678\n",
              "75%      77.000000    25.640603      4.804919   272.324236\n",
              "max     100.000000    48.871161     13.981662   364.079751"
            ],
            "text/html": [
              "\n",
              "  <div id=\"df-731cf305-bbe0-4276-9df6-273de988edd9\">\n",
              "    <div class=\"colab-df-container\">\n",
              "      <div>\n",
              "<style scoped>\n",
              "    .dataframe tbody tr th:only-of-type {\n",
              "        vertical-align: middle;\n",
              "    }\n",
              "\n",
              "    .dataframe tbody tr th {\n",
              "        vertical-align: top;\n",
              "    }\n",
              "\n",
              "    .dataframe thead th {\n",
              "        text-align: right;\n",
              "    }\n",
              "</style>\n",
              "<table border=\"1\" class=\"dataframe\">\n",
              "  <thead>\n",
              "    <tr style=\"text-align: right;\">\n",
              "      <th></th>\n",
              "      <th>TV</th>\n",
              "      <th>Radio</th>\n",
              "      <th>Social Media</th>\n",
              "      <th>Sales</th>\n",
              "    </tr>\n",
              "  </thead>\n",
              "  <tbody>\n",
              "    <tr>\n",
              "      <th>count</th>\n",
              "      <td>4546.000000</td>\n",
              "      <td>4546.000000</td>\n",
              "      <td>4546.000000</td>\n",
              "      <td>4546.000000</td>\n",
              "    </tr>\n",
              "    <tr>\n",
              "      <th>mean</th>\n",
              "      <td>54.062912</td>\n",
              "      <td>18.157533</td>\n",
              "      <td>3.323473</td>\n",
              "      <td>192.413332</td>\n",
              "    </tr>\n",
              "    <tr>\n",
              "      <th>std</th>\n",
              "      <td>26.104942</td>\n",
              "      <td>9.663260</td>\n",
              "      <td>2.211254</td>\n",
              "      <td>93.019873</td>\n",
              "    </tr>\n",
              "    <tr>\n",
              "      <th>min</th>\n",
              "      <td>10.000000</td>\n",
              "      <td>0.000684</td>\n",
              "      <td>0.000031</td>\n",
              "      <td>31.199409</td>\n",
              "    </tr>\n",
              "    <tr>\n",
              "      <th>25%</th>\n",
              "      <td>32.000000</td>\n",
              "      <td>10.555355</td>\n",
              "      <td>1.530822</td>\n",
              "      <td>112.434612</td>\n",
              "    </tr>\n",
              "    <tr>\n",
              "      <th>50%</th>\n",
              "      <td>53.000000</td>\n",
              "      <td>17.859513</td>\n",
              "      <td>3.055565</td>\n",
              "      <td>188.963678</td>\n",
              "    </tr>\n",
              "    <tr>\n",
              "      <th>75%</th>\n",
              "      <td>77.000000</td>\n",
              "      <td>25.640603</td>\n",
              "      <td>4.804919</td>\n",
              "      <td>272.324236</td>\n",
              "    </tr>\n",
              "    <tr>\n",
              "      <th>max</th>\n",
              "      <td>100.000000</td>\n",
              "      <td>48.871161</td>\n",
              "      <td>13.981662</td>\n",
              "      <td>364.079751</td>\n",
              "    </tr>\n",
              "  </tbody>\n",
              "</table>\n",
              "</div>\n",
              "      <button class=\"colab-df-convert\" onclick=\"convertToInteractive('df-731cf305-bbe0-4276-9df6-273de988edd9')\"\n",
              "              title=\"Convert this dataframe to an interactive table.\"\n",
              "              style=\"display:none;\">\n",
              "        \n",
              "  <svg xmlns=\"http://www.w3.org/2000/svg\" height=\"24px\"viewBox=\"0 0 24 24\"\n",
              "       width=\"24px\">\n",
              "    <path d=\"M0 0h24v24H0V0z\" fill=\"none\"/>\n",
              "    <path d=\"M18.56 5.44l.94 2.06.94-2.06 2.06-.94-2.06-.94-.94-2.06-.94 2.06-2.06.94zm-11 1L8.5 8.5l.94-2.06 2.06-.94-2.06-.94L8.5 2.5l-.94 2.06-2.06.94zm10 10l.94 2.06.94-2.06 2.06-.94-2.06-.94-.94-2.06-.94 2.06-2.06.94z\"/><path d=\"M17.41 7.96l-1.37-1.37c-.4-.4-.92-.59-1.43-.59-.52 0-1.04.2-1.43.59L10.3 9.45l-7.72 7.72c-.78.78-.78 2.05 0 2.83L4 21.41c.39.39.9.59 1.41.59.51 0 1.02-.2 1.41-.59l7.78-7.78 2.81-2.81c.8-.78.8-2.07 0-2.86zM5.41 20L4 18.59l7.72-7.72 1.47 1.35L5.41 20z\"/>\n",
              "  </svg>\n",
              "      </button>\n",
              "      \n",
              "  <style>\n",
              "    .colab-df-container {\n",
              "      display:flex;\n",
              "      flex-wrap:wrap;\n",
              "      gap: 12px;\n",
              "    }\n",
              "\n",
              "    .colab-df-convert {\n",
              "      background-color: #E8F0FE;\n",
              "      border: none;\n",
              "      border-radius: 50%;\n",
              "      cursor: pointer;\n",
              "      display: none;\n",
              "      fill: #1967D2;\n",
              "      height: 32px;\n",
              "      padding: 0 0 0 0;\n",
              "      width: 32px;\n",
              "    }\n",
              "\n",
              "    .colab-df-convert:hover {\n",
              "      background-color: #E2EBFA;\n",
              "      box-shadow: 0px 1px 2px rgba(60, 64, 67, 0.3), 0px 1px 3px 1px rgba(60, 64, 67, 0.15);\n",
              "      fill: #174EA6;\n",
              "    }\n",
              "\n",
              "    [theme=dark] .colab-df-convert {\n",
              "      background-color: #3B4455;\n",
              "      fill: #D2E3FC;\n",
              "    }\n",
              "\n",
              "    [theme=dark] .colab-df-convert:hover {\n",
              "      background-color: #434B5C;\n",
              "      box-shadow: 0px 1px 3px 1px rgba(0, 0, 0, 0.15);\n",
              "      filter: drop-shadow(0px 1px 2px rgba(0, 0, 0, 0.3));\n",
              "      fill: #FFFFFF;\n",
              "    }\n",
              "  </style>\n",
              "\n",
              "      <script>\n",
              "        const buttonEl =\n",
              "          document.querySelector('#df-731cf305-bbe0-4276-9df6-273de988edd9 button.colab-df-convert');\n",
              "        buttonEl.style.display =\n",
              "          google.colab.kernel.accessAllowed ? 'block' : 'none';\n",
              "\n",
              "        async function convertToInteractive(key) {\n",
              "          const element = document.querySelector('#df-731cf305-bbe0-4276-9df6-273de988edd9');\n",
              "          const dataTable =\n",
              "            await google.colab.kernel.invokeFunction('convertToInteractive',\n",
              "                                                     [key], {});\n",
              "          if (!dataTable) return;\n",
              "\n",
              "          const docLinkHtml = 'Like what you see? Visit the ' +\n",
              "            '<a target=\"_blank\" href=https://colab.research.google.com/notebooks/data_table.ipynb>data table notebook</a>'\n",
              "            + ' to learn more about interactive tables.';\n",
              "          element.innerHTML = '';\n",
              "          dataTable['output_type'] = 'display_data';\n",
              "          await google.colab.output.renderOutput(dataTable, element);\n",
              "          const docLink = document.createElement('div');\n",
              "          docLink.innerHTML = docLinkHtml;\n",
              "          element.appendChild(docLink);\n",
              "        }\n",
              "      </script>\n",
              "    </div>\n",
              "  </div>\n",
              "  "
            ]
          },
          "metadata": {},
          "execution_count": 62
        }
      ]
    },
    {
      "cell_type": "markdown",
      "source": [
        "###Data preparation\n",
        "In this section we will be preparing our data for modeling that is, we will be cleaning our data from null values, checking for outliers, visualizing our data, transforming our cathegorical data to numerical ones and see how are our data correlated."
      ],
      "metadata": {
        "id": "jsnlFvQdyXtI"
      }
    },
    {
      "cell_type": "code",
      "source": [
        "#Now we are checking the egzistence of null values\n",
        "df.isnull().sum()"
      ],
      "metadata": {
        "colab": {
          "base_uri": "https://localhost:8080/"
        },
        "id": "7vfswPkCQ7dq",
        "outputId": "40628631-b057-463c-f035-2b25328dbb85"
      },
      "execution_count": 8,
      "outputs": [
        {
          "output_type": "execute_result",
          "data": {
            "text/plain": [
              "TV              10\n",
              "Radio            4\n",
              "Social Media     6\n",
              "Influencer       0\n",
              "Sales            6\n",
              "dtype: int64"
            ]
          },
          "metadata": {},
          "execution_count": 8
        }
      ]
    },
    {
      "cell_type": "markdown",
      "source": [
        "We can see that in our dataset egzist null values for variables TV, Radio, Social Media and Sales. Initially we have two options: first one is to drop (delete) all null values and that is considered right when we have a huge dataset and a little null values; but second opitons is more appiable if we have little dataset and present null values - we can imput that is replace null values eather with mean of each variable that has null values (if its distribution is normal) or we can replace our null values with median of each variable that has null values (if its distribution is not normal). \n",
        "In this case we have a huge dataset with little null values so we are going to choose the first option - to delet null values."
      ],
      "metadata": {
        "id": "ghHGv-toUZZ0"
      }
    },
    {
      "cell_type": "code",
      "source": [
        "df2 = df.dropna(axis = 0)"
      ],
      "metadata": {
        "id": "YzaYo_UdENOs"
      },
      "execution_count": 11,
      "outputs": []
    },
    {
      "cell_type": "code",
      "source": [
        "df2.info()"
      ],
      "metadata": {
        "colab": {
          "base_uri": "https://localhost:8080/"
        },
        "id": "W4UbL3XIowdB",
        "outputId": "7bf5452e-62af-45a2-86be-f1d6938b074a"
      },
      "execution_count": 12,
      "outputs": [
        {
          "output_type": "stream",
          "name": "stdout",
          "text": [
            "<class 'pandas.core.frame.DataFrame'>\n",
            "Int64Index: 4546 entries, 0 to 4571\n",
            "Data columns (total 5 columns):\n",
            " #   Column        Non-Null Count  Dtype  \n",
            "---  ------        --------------  -----  \n",
            " 0   TV            4546 non-null   float64\n",
            " 1   Radio         4546 non-null   float64\n",
            " 2   Social Media  4546 non-null   float64\n",
            " 3   Influencer    4546 non-null   object \n",
            " 4   Sales         4546 non-null   float64\n",
            "dtypes: float64(4), object(1)\n",
            "memory usage: 213.1+ KB\n"
          ]
        }
      ]
    },
    {
      "cell_type": "code",
      "source": [
        "df2.isnull().sum()"
      ],
      "metadata": {
        "colab": {
          "base_uri": "https://localhost:8080/"
        },
        "id": "O-iA4qa2o3n0",
        "outputId": "73c8472d-1796-419a-8285-50cc41358119"
      },
      "execution_count": 13,
      "outputs": [
        {
          "output_type": "execute_result",
          "data": {
            "text/plain": [
              "TV              0\n",
              "Radio           0\n",
              "Social Media    0\n",
              "Influencer      0\n",
              "Sales           0\n",
              "dtype: int64"
            ]
          },
          "metadata": {},
          "execution_count": 13
        }
      ]
    },
    {
      "cell_type": "markdown",
      "source": [
        "We can see that we now do not have null values so we are going to check for normality of our numeric variables.\n",
        "\n",
        "H0: Distribution of each variable is normal.\n",
        "\n",
        "H1: There is statistically significant differece between distribution of each variable and normal distribution, that is each variable has abnormal distribution."
      ],
      "metadata": {
        "id": "8Vi0fu_Oo8Mz"
      }
    },
    {
      "cell_type": "code",
      "source": [
        "def normality_check(column):\n",
        "  data = df2[column]\n",
        "  result = anderson(data)\n",
        "  print(\"Normality check for feature: \" + column)\n",
        "  print('Statistic:%5f'% result.statistic)\n",
        "  p=0\n",
        "  for i in range(len(result.critical_values)):\n",
        "      sl,cv = result.significance_level[i], result.critical_values[i]\n",
        "      if result.statistic < result.critical_values[i]:\n",
        "          print('%5f: %5f, Distribution is normal (we cannot reject H0)' %(sl, cv))\n",
        "      else:\n",
        "          print('%5f: %5f, Distribution is not normal ( we reject H0, and we accept H1)' %(sl, cv))\n",
        "  print(\"\")\n",
        "\n",
        "columns = ['TV', 'Radio', 'Social Media', 'Sales']\n",
        "for column in columns:\n",
        "  normality_check(column)"
      ],
      "metadata": {
        "colab": {
          "base_uri": "https://localhost:8080/"
        },
        "id": "I_xJDk1jQ_2I",
        "outputId": "d01d557a-166f-4b68-b710-fc6ac4c8ea42"
      },
      "execution_count": 15,
      "outputs": [
        {
          "output_type": "stream",
          "name": "stdout",
          "text": [
            "Normality check for feature: TV\n",
            "Statistic:50.015354\n",
            "15.000000: 0.575000, Distribution is not normal ( we reject H0, and we accept H1)\n",
            "10.000000: 0.655000, Distribution is not normal ( we reject H0, and we accept H1)\n",
            "5.000000: 0.786000, Distribution is not normal ( we reject H0, and we accept H1)\n",
            "2.500000: 0.917000, Distribution is not normal ( we reject H0, and we accept H1)\n",
            "1.000000: 1.091000, Distribution is not normal ( we reject H0, and we accept H1)\n",
            "\n",
            "Normality check for feature: Radio\n",
            "Statistic:18.726727\n",
            "15.000000: 0.575000, Distribution is not normal ( we reject H0, and we accept H1)\n",
            "10.000000: 0.655000, Distribution is not normal ( we reject H0, and we accept H1)\n",
            "5.000000: 0.786000, Distribution is not normal ( we reject H0, and we accept H1)\n",
            "2.500000: 0.917000, Distribution is not normal ( we reject H0, and we accept H1)\n",
            "1.000000: 1.091000, Distribution is not normal ( we reject H0, and we accept H1)\n",
            "\n",
            "Normality check for feature: Social Media\n",
            "Statistic:39.568980\n",
            "15.000000: 0.575000, Distribution is not normal ( we reject H0, and we accept H1)\n",
            "10.000000: 0.655000, Distribution is not normal ( we reject H0, and we accept H1)\n",
            "5.000000: 0.786000, Distribution is not normal ( we reject H0, and we accept H1)\n",
            "2.500000: 0.917000, Distribution is not normal ( we reject H0, and we accept H1)\n",
            "1.000000: 1.091000, Distribution is not normal ( we reject H0, and we accept H1)\n",
            "\n",
            "Normality check for feature: Sales\n",
            "Statistic:49.647913\n",
            "15.000000: 0.575000, Distribution is not normal ( we reject H0, and we accept H1)\n",
            "10.000000: 0.655000, Distribution is not normal ( we reject H0, and we accept H1)\n",
            "5.000000: 0.786000, Distribution is not normal ( we reject H0, and we accept H1)\n",
            "2.500000: 0.917000, Distribution is not normal ( we reject H0, and we accept H1)\n",
            "1.000000: 1.091000, Distribution is not normal ( we reject H0, and we accept H1)\n",
            "\n"
          ]
        }
      ]
    },
    {
      "cell_type": "code",
      "source": [
        "num_varijable = ['TV', 'Radio', 'Social Media', 'Sales']\n",
        "for column in num_varijable:\n",
        "  #Create the distplot\n",
        "  ax=sns.displot(x = df2[column], kind = 'hist')\n",
        "  plt.show()"
      ],
      "metadata": {
        "colab": {
          "base_uri": "https://localhost:8080/",
          "height": 1000
        },
        "id": "sGVH16SMR09t",
        "outputId": "b153f9c1-fbf9-4130-c02c-5113de248e28"
      },
      "execution_count": 22,
      "outputs": [
        {
          "output_type": "display_data",
          "data": {
            "text/plain": [
              "<Figure size 360x360 with 1 Axes>"
            ],
            "image/png": "[encoded data removed]"
          },
          "metadata": {
            "needs_background": "light"
          }
        },
        {
          "output_type": "display_data",
          "data": {
            "text/plain": [
              "<Figure size 360x360 with 1 Axes>"
            ],
            "image/png": "[encoded data removed]"
          },
          "metadata": {
            "needs_background": "light"
          }
        },
        {
          "output_type": "display_data",
          "data": {
            "text/plain": [
              "<Figure size 360x360 with 1 Axes>"
            ],
            "image/png": "[encoded data removed]"
          },
          "metadata": {
            "needs_background": "light"
          }
        },
        {
          "output_type": "display_data",
          "data": {
            "text/plain": [
              "<Figure size 360x360 with 1 Axes>"
            ],
            "image/png": "[encoded data removed]"
          },
          "metadata": {
            "needs_background": "light"
          }
        }
      ]
    },
    {
      "cell_type": "markdown",
      "source": [
        "From both, the normality check with Anderson-Darling's test and histogram of frequencies we can see that neither of these variables has the normal distribution. This is important for us because some algorithms only work if distribution is normal. Also we need normality check for correlation beacuse we will be usig Spearman's coefficient of correlation instead of Pearson's."
      ],
      "metadata": {
        "id": "5hQKBCnPsV_8"
      }
    },
    {
      "cell_type": "code",
      "source": [
        "sns.countplot(df2['Influencer'])"
      ],
      "metadata": {
        "colab": {
          "base_uri": "https://localhost:8080/",
          "height": 354
        },
        "id": "xx84O_mJVvZW",
        "outputId": "aa0f4147-1eca-4e88-868c-d78c0e849de7"
      },
      "execution_count": 35,
      "outputs": [
        {
          "output_type": "stream",
          "name": "stderr",
          "text": [
            "/usr/local/lib/python3.7/dist-packages/seaborn/_decorators.py:43: FutureWarning: Pass the following variable as a keyword arg: x. From version 0.12, the only valid positional argument will be `data`, and passing other arguments without an explicit keyword will result in an error or misinterpretation.\n",
            "  FutureWarning\n"
          ]
        },
        {
          "output_type": "execute_result",
          "data": {
            "text/plain": [
              "<matplotlib.axes._subplots.AxesSubplot at 0x7f0e76eb2a90>"
            ]
          },
          "metadata": {},
          "execution_count": 35
        },
        {
          "output_type": "display_data",
          "data": {
            "text/plain": [
              "<Figure size 432x288 with 1 Axes>"
            ],
            "image/png": "[encoded data removed]"
          },
          "metadata": {
            "needs_background": "light"
          }
        }
      ]
    },
    {
      "cell_type": "markdown",
      "source": [
        "From this countplot we can see that we have balanced data. Since variable Influencer is cathegorical we have to change cathegorical values to numerical ones. We will do that with LabelEncoder."
      ],
      "metadata": {
        "id": "qSJIWccytXzz"
      }
    },
    {
      "cell_type": "code",
      "source": [
        "from sklearn.preprocessing import LabelEncoder\n",
        "le = LabelEncoder() \n",
        "InfluencerLE = le.fit_transform(df2['Influencer'])\n",
        "\n",
        "df2.drop(columns='Influencer', axis = 1)\n",
        "df2['Influencer'] = InfluencerLE"
      ],
      "metadata": {
        "id": "p70EGMC0XVvh"
      },
      "execution_count": 42,
      "outputs": []
    },
    {
      "cell_type": "code",
      "source": [
        "df2"
      ],
      "metadata": {
        "colab": {
          "base_uri": "https://localhost:8080/",
          "height": 424
        },
        "id": "uoEplu1lvuza",
        "outputId": "e145fafa-02ab-48f9-ebb6-f490566b3656"
      },
      "execution_count": 44,
      "outputs": [
        {
          "output_type": "execute_result",
          "data": {
            "text/plain": [
              "        TV      Radio  Social Media  Influencer       Sales\n",
              "0     16.0   6.566231      2.907983           1   54.732757\n",
              "1     13.0   9.237765      2.409567           1   46.677897\n",
              "2     41.0  15.886446      2.913410           1  150.177829\n",
              "3     83.0  30.020028      6.922304           1  298.246340\n",
              "4     15.0   8.437408      1.405998           2   56.594181\n",
              "...    ...        ...           ...         ...         ...\n",
              "4567  26.0   4.472360      0.717090           2   94.685866\n",
              "4568  71.0  20.610685      6.545573           3  249.101915\n",
              "4569  44.0  19.800072      5.096192           2  163.631457\n",
              "4570  71.0  17.534640      1.940873           0  253.610411\n",
              "4571  42.0  15.966688      5.046548           2  148.202414\n",
              "\n",
              "[4546 rows x 5 columns]"
            ],
            "text/html": [
              "\n",
              "  <div id=\"df-45a04c78-cb35-45ee-a78f-f8192d9a0eab\">\n",
              "    <div class=\"colab-df-container\">\n",
              "      <div>\n",
              "<style scoped>\n",
              "    .dataframe tbody tr th:only-of-type {\n",
              "        vertical-align: middle;\n",
              "    }\n",
              "\n",
              "    .dataframe tbody tr th {\n",
              "        vertical-align: top;\n",
              "    }\n",
              "\n",
              "    .dataframe thead th {\n",
              "        text-align: right;\n",
              "    }\n",
              "</style>\n",
              "<table border=\"1\" class=\"dataframe\">\n",
              "  <thead>\n",
              "    <tr style=\"text-align: right;\">\n",
              "      <th></th>\n",
              "      <th>TV</th>\n",
              "      <th>Radio</th>\n",
              "      <th>Social Media</th>\n",
              "      <th>Influencer</th>\n",
              "      <th>Sales</th>\n",
              "    </tr>\n",
              "  </thead>\n",
              "  <tbody>\n",
              "    <tr>\n",
              "      <th>0</th>\n",
              "      <td>16.0</td>\n",
              "      <td>6.566231</td>\n",
              "      <td>2.907983</td>\n",
              "      <td>1</td>\n",
              "      <td>54.732757</td>\n",
              "    </tr>\n",
              "    <tr>\n",
              "      <th>1</th>\n",
              "      <td>13.0</td>\n",
              "      <td>9.237765</td>\n",
              "      <td>2.409567</td>\n",
              "      <td>1</td>\n",
              "      <td>46.677897</td>\n",
              "    </tr>\n",
              "    <tr>\n",
              "      <th>2</th>\n",
              "      <td>41.0</td>\n",
              "      <td>15.886446</td>\n",
              "      <td>2.913410</td>\n",
              "      <td>1</td>\n",
              "      <td>150.177829</td>\n",
              "    </tr>\n",
              "    <tr>\n",
              "      <th>3</th>\n",
              "      <td>83.0</td>\n",
              "      <td>30.020028</td>\n",
              "      <td>6.922304</td>\n",
              "      <td>1</td>\n",
              "      <td>298.246340</td>\n",
              "    </tr>\n",
              "    <tr>\n",
              "      <th>4</th>\n",
              "      <td>15.0</td>\n",
              "      <td>8.437408</td>\n",
              "      <td>1.405998</td>\n",
              "      <td>2</td>\n",
              "      <td>56.594181</td>\n",
              "    </tr>\n",
              "    <tr>\n",
              "      <th>...</th>\n",
              "      <td>...</td>\n",
              "      <td>...</td>\n",
              "      <td>...</td>\n",
              "      <td>...</td>\n",
              "      <td>...</td>\n",
              "    </tr>\n",
              "    <tr>\n",
              "      <th>4567</th>\n",
              "      <td>26.0</td>\n",
              "      <td>4.472360</td>\n",
              "      <td>0.717090</td>\n",
              "      <td>2</td>\n",
              "      <td>94.685866</td>\n",
              "    </tr>\n",
              "    <tr>\n",
              "      <th>4568</th>\n",
              "      <td>71.0</td>\n",
              "      <td>20.610685</td>\n",
              "      <td>6.545573</td>\n",
              "      <td>3</td>\n",
              "      <td>249.101915</td>\n",
              "    </tr>\n",
              "    <tr>\n",
              "      <th>4569</th>\n",
              "      <td>44.0</td>\n",
              "      <td>19.800072</td>\n",
              "      <td>5.096192</td>\n",
              "      <td>2</td>\n",
              "      <td>163.631457</td>\n",
              "    </tr>\n",
              "    <tr>\n",
              "      <th>4570</th>\n",
              "      <td>71.0</td>\n",
              "      <td>17.534640</td>\n",
              "      <td>1.940873</td>\n",
              "      <td>0</td>\n",
              "      <td>253.610411</td>\n",
              "    </tr>\n",
              "    <tr>\n",
              "      <th>4571</th>\n",
              "      <td>42.0</td>\n",
              "      <td>15.966688</td>\n",
              "      <td>5.046548</td>\n",
              "      <td>2</td>\n",
              "      <td>148.202414</td>\n",
              "    </tr>\n",
              "  </tbody>\n",
              "</table>\n",
              "<p>4546 rows × 5 columns</p>\n",
              "</div>\n",
              "      <button class=\"colab-df-convert\" onclick=\"convertToInteractive('df-45a04c78-cb35-45ee-a78f-f8192d9a0eab')\"\n",
              "              title=\"Convert this dataframe to an interactive table.\"\n",
              "              style=\"display:none;\">\n",
              "        \n",
              "  <svg xmlns=\"http://www.w3.org/2000/svg\" height=\"24px\"viewBox=\"0 0 24 24\"\n",
              "       width=\"24px\">\n",
              "    <path d=\"M0 0h24v24H0V0z\" fill=\"none\"/>\n",
              "    <path d=\"M18.56 5.44l.94 2.06.94-2.06 2.06-.94-2.06-.94-.94-2.06-.94 2.06-2.06.94zm-11 1L8.5 8.5l.94-2.06 2.06-.94-2.06-.94L8.5 2.5l-.94 2.06-2.06.94zm10 10l.94 2.06.94-2.06 2.06-.94-2.06-.94-.94-2.06-.94 2.06-2.06.94z\"/><path d=\"M17.41 7.96l-1.37-1.37c-.4-.4-.92-.59-1.43-.59-.52 0-1.04.2-1.43.59L10.3 9.45l-7.72 7.72c-.78.78-.78 2.05 0 2.83L4 21.41c.39.39.9.59 1.41.59.51 0 1.02-.2 1.41-.59l7.78-7.78 2.81-2.81c.8-.78.8-2.07 0-2.86zM5.41 20L4 18.59l7.72-7.72 1.47 1.35L5.41 20z\"/>\n",
              "  </svg>\n",
              "      </button>\n",
              "      \n",
              "  <style>\n",
              "    .colab-df-container {\n",
              "      display:flex;\n",
              "      flex-wrap:wrap;\n",
              "      gap: 12px;\n",
              "    }\n",
              "\n",
              "    .colab-df-convert {\n",
              "      background-color: #E8F0FE;\n",
              "      border: none;\n",
              "      border-radius: 50%;\n",
              "      cursor: pointer;\n",
              "      display: none;\n",
              "      fill: #1967D2;\n",
              "      height: 32px;\n",
              "      padding: 0 0 0 0;\n",
              "      width: 32px;\n",
              "    }\n",
              "\n",
              "    .colab-df-convert:hover {\n",
              "      background-color: #E2EBFA;\n",
              "      box-shadow: 0px 1px 2px rgba(60, 64, 67, 0.3), 0px 1px 3px 1px rgba(60, 64, 67, 0.15);\n",
              "      fill: #174EA6;\n",
              "    }\n",
              "\n",
              "    [theme=dark] .colab-df-convert {\n",
              "      background-color: #3B4455;\n",
              "      fill: #D2E3FC;\n",
              "    }\n",
              "\n",
              "    [theme=dark] .colab-df-convert:hover {\n",
              "      background-color: #434B5C;\n",
              "      box-shadow: 0px 1px 3px 1px rgba(0, 0, 0, 0.15);\n",
              "      filter: drop-shadow(0px 1px 2px rgba(0, 0, 0, 0.3));\n",
              "      fill: #FFFFFF;\n",
              "    }\n",
              "  </style>\n",
              "\n",
              "      <script>\n",
              "        const buttonEl =\n",
              "          document.querySelector('#df-45a04c78-cb35-45ee-a78f-f8192d9a0eab button.colab-df-convert');\n",
              "        buttonEl.style.display =\n",
              "          google.colab.kernel.accessAllowed ? 'block' : 'none';\n",
              "\n",
              "        async function convertToInteractive(key) {\n",
              "          const element = document.querySelector('#df-45a04c78-cb35-45ee-a78f-f8192d9a0eab');\n",
              "          const dataTable =\n",
              "            await google.colab.kernel.invokeFunction('convertToInteractive',\n",
              "                                                     [key], {});\n",
              "          if (!dataTable) return;\n",
              "\n",
              "          const docLinkHtml = 'Like what you see? Visit the ' +\n",
              "            '<a target=\"_blank\" href=https://colab.research.google.com/notebooks/data_table.ipynb>data table notebook</a>'\n",
              "            + ' to learn more about interactive tables.';\n",
              "          element.innerHTML = '';\n",
              "          dataTable['output_type'] = 'display_data';\n",
              "          await google.colab.output.renderOutput(dataTable, element);\n",
              "          const docLink = document.createElement('div');\n",
              "          docLink.innerHTML = docLinkHtml;\n",
              "          element.appendChild(docLink);\n",
              "        }\n",
              "      </script>\n",
              "    </div>\n",
              "  </div>\n",
              "  "
            ]
          },
          "metadata": {},
          "execution_count": 44
        }
      ]
    },
    {
      "cell_type": "code",
      "source": [
        "df2.info()"
      ],
      "metadata": {
        "colab": {
          "base_uri": "https://localhost:8080/"
        },
        "id": "kH-9GZgrvy9i",
        "outputId": "9003d3bb-a8b9-4dab-f19c-2182b0e329f5"
      },
      "execution_count": 45,
      "outputs": [
        {
          "output_type": "stream",
          "name": "stdout",
          "text": [
            "<class 'pandas.core.frame.DataFrame'>\n",
            "Int64Index: 4546 entries, 0 to 4571\n",
            "Data columns (total 5 columns):\n",
            " #   Column        Non-Null Count  Dtype  \n",
            "---  ------        --------------  -----  \n",
            " 0   TV            4546 non-null   float64\n",
            " 1   Radio         4546 non-null   float64\n",
            " 2   Social Media  4546 non-null   float64\n",
            " 3   Influencer    4546 non-null   int64  \n",
            " 4   Sales         4546 non-null   float64\n",
            "dtypes: float64(4), int64(1)\n",
            "memory usage: 342.1 KB\n"
          ]
        }
      ]
    },
    {
      "cell_type": "markdown",
      "source": [
        "Now all our variables are clean and numerical so we can go to the next step that is choosing the best variables for our linear regression model. With scatter plot we will see how our independent varibales look compared to dependent variable Sales."
      ],
      "metadata": {
        "id": "wfK2S94CxMlE"
      }
    },
    {
      "cell_type": "code",
      "source": [
        "sns.pairplot(df2.head(4546), x_vars=['TV', 'Radio', 'Social Media'],\n",
        "                          y_vars='Sales',height=5, aspect=0.7, kind='scatter')\n",
        "plt.tight_layout()\n",
        "plt.show"
      ],
      "metadata": {
        "colab": {
          "base_uri": "https://localhost:8080/",
          "height": 386
        },
        "id": "ndCPa0yvW0rD",
        "outputId": "bc4fa6e7-98c3-4c88-ceb0-27501aeda9c8"
      },
      "execution_count": 40,
      "outputs": [
        {
          "output_type": "execute_result",
          "data": {
            "text/plain": [
              "<function matplotlib.pyplot.show>"
            ]
          },
          "metadata": {},
          "execution_count": 40
        },
        {
          "output_type": "display_data",
          "data": {
            "text/plain": [
              "<Figure size 756x360 with 3 Axes>"
            ],
            "image/png": "[encoded data removed]"
          },
          "metadata": {
            "needs_background": "light"
          }
        }
      ]
    },
    {
      "cell_type": "markdown",
      "source": [
        "We can see that our variable TV is strongly correlated with variable Sales and that variable Radio has also a pretty much strong correlation with Sales but that is not really case with variable Social Media.\n",
        "\n",
        "Our next step is to check for outliers in our data set. Outliers can be very troubling so we need to check if they are present and if they are we have to determine whether they are potential or true outliers."
      ],
      "metadata": {
        "id": "_pLrwRAXygG4"
      }
    },
    {
      "cell_type": "code",
      "source": [
        "num_varijable = ['TV', 'Radio', 'Social Media', 'Sales']\n",
        "for column in num_varijable:\n",
        "  #Create the boxplot\n",
        "  ax=sns.boxplot(x = df2[column])\n",
        "\n",
        "  #Add labels to the plot\n",
        "  ax.set_xlabel(column, fontsize=15)\n",
        "  ax.set_ylabel('Variable', fontsize=15)\n",
        "  ax.set_title(column + ' boxplot', fontsize=20, pad=20)\n",
        "\n",
        "  plt.show()"
      ],
      "metadata": {
        "colab": {
          "base_uri": "https://localhost:8080/",
          "height": 1000
        },
        "id": "gxatDm6pY7-_",
        "outputId": "439fbf39-93fe-4780-8c3d-8c24701d88f0"
      },
      "execution_count": 47,
      "outputs": [
        {
          "output_type": "display_data",
          "data": {
            "text/plain": [
              "<Figure size 432x288 with 1 Axes>"
            ],
            "image/png": "[encoded data removed]"
          },
          "metadata": {
            "needs_background": "light"
          }
        },
        {
          "output_type": "display_data",
          "data": {
            "text/plain": [
              "<Figure size 432x288 with 1 Axes>"
            ],
            "image/png": "[encoded data removed]"
          },
          "metadata": {
            "needs_background": "light"
          }
        },
        {
          "output_type": "display_data",
          "data": {
            "text/plain": [
              "<Figure size 432x288 with 1 Axes>"
            ],
            "image/png": "[encoded data removed]"
          },
          "metadata": {
            "needs_background": "light"
          }
        },
        {
          "output_type": "display_data",
          "data": {
            "text/plain": [
              "<Figure size 432x288 with 1 Axes>"
            ],
            "image/png": "[encoded data removed]"
          },
          "metadata": {
            "needs_background": "light"
          }
        }
      ]
    },
    {
      "cell_type": "markdown",
      "source": [
        "From our boxplot we can see that there are some outliers within variables Radio and Social Media so we will check whether they are potential or true."
      ],
      "metadata": {
        "id": "Fz5COnSuzgjX"
      }
    },
    {
      "cell_type": "code",
      "source": [
        "#Function for outliers detection\n",
        "#Function for outliers detection\n",
        "def outliers_detection(df2_input, column):\n",
        "    \n",
        "    df2_lower_quartile= df2_input[column].quantile(0.25)\n",
        "    df2_uper_quartile= df2_input[column].quantile(0.75)\n",
        "\n",
        "\n",
        "    #Extract the inter quantile range\n",
        "    df2_iqr= df2_uper_quartile - df2_lower_quartile\n",
        "\n",
        "    #Get the upper and lower bounds\n",
        "    lower_bound_up= df2_uper_quartile + 1.5*df2_iqr\n",
        "    upper_bound_up= df2_uper_quartile + 3*df2_iqr\n",
        "\n",
        "    #Get the upper and lower bounds\n",
        "    upper_bound_down= df2_lower_quartile - 1.5*df2_iqr\n",
        "    lower_bound_down= df2_lower_quartile - 3*df2_iqr\n",
        "\n",
        "    #Extract values outside the upper bound\n",
        "    df2_outliers_current= df2_input[(df2_input[column] > upper_bound_up) | (df2_input[column] < lower_bound_down)]\n",
        "    df2_input = df2_input[(df2_input[column] <= upper_bound_up) & (df2_input[column] >= lower_bound_down)]\n",
        "\n",
        "    df2_outliers_current['variable']=column\n",
        "    return df2_input, df2_outliers_current\n",
        "\n",
        "df2_cleaned=df2\n",
        "df2_outliers = pd.DataFrame()\n",
        "num_varijable = ['TV', 'Radio', 'Social Media', 'Sales']\n",
        "for column in num_varijable:\n",
        "    df2_cleaned, df2_outliers_temp = outliers_detection(df2_cleaned, column)\n",
        "    df2_outliers = df2_outliers.append(df2_outliers_temp)\n",
        "#%%\n",
        "df2_outliers\n"
      ],
      "metadata": {
        "colab": {
          "base_uri": "https://localhost:8080/",
          "height": 49
        },
        "id": "IELevDS4aZAF",
        "outputId": "27794e7b-e1db-4bc4-f518-1c2bed091180"
      },
      "execution_count": 48,
      "outputs": [
        {
          "output_type": "execute_result",
          "data": {
            "text/plain": [
              "Empty DataFrame\n",
              "Columns: [TV, Radio, Social Media, Influencer, Sales, variable]\n",
              "Index: []"
            ],
            "text/html": [
              "\n",
              "  <div id=\"df-1d638b6a-2e82-43a4-b7e2-5fe94586e54d\">\n",
              "    <div class=\"colab-df-container\">\n",
              "      <div>\n",
              "<style scoped>\n",
              "    .dataframe tbody tr th:only-of-type {\n",
              "        vertical-align: middle;\n",
              "    }\n",
              "\n",
              "    .dataframe tbody tr th {\n",
              "        vertical-align: top;\n",
              "    }\n",
              "\n",
              "    .dataframe thead th {\n",
              "        text-align: right;\n",
              "    }\n",
              "</style>\n",
              "<table border=\"1\" class=\"dataframe\">\n",
              "  <thead>\n",
              "    <tr style=\"text-align: right;\">\n",
              "      <th></th>\n",
              "      <th>TV</th>\n",
              "      <th>Radio</th>\n",
              "      <th>Social Media</th>\n",
              "      <th>Influencer</th>\n",
              "      <th>Sales</th>\n",
              "      <th>variable</th>\n",
              "    </tr>\n",
              "  </thead>\n",
              "  <tbody>\n",
              "  </tbody>\n",
              "</table>\n",
              "</div>\n",
              "      <button class=\"colab-df-convert\" onclick=\"convertToInteractive('df-1d638b6a-2e82-43a4-b7e2-5fe94586e54d')\"\n",
              "              title=\"Convert this dataframe to an interactive table.\"\n",
              "              style=\"display:none;\">\n",
              "        \n",
              "  <svg xmlns=\"http://www.w3.org/2000/svg\" height=\"24px\"viewBox=\"0 0 24 24\"\n",
              "       width=\"24px\">\n",
              "    <path d=\"M0 0h24v24H0V0z\" fill=\"none\"/>\n",
              "    <path d=\"M18.56 5.44l.94 2.06.94-2.06 2.06-.94-2.06-.94-.94-2.06-.94 2.06-2.06.94zm-11 1L8.5 8.5l.94-2.06 2.06-.94-2.06-.94L8.5 2.5l-.94 2.06-2.06.94zm10 10l.94 2.06.94-2.06 2.06-.94-2.06-.94-.94-2.06-.94 2.06-2.06.94z\"/><path d=\"M17.41 7.96l-1.37-1.37c-.4-.4-.92-.59-1.43-.59-.52 0-1.04.2-1.43.59L10.3 9.45l-7.72 7.72c-.78.78-.78 2.05 0 2.83L4 21.41c.39.39.9.59 1.41.59.51 0 1.02-.2 1.41-.59l7.78-7.78 2.81-2.81c.8-.78.8-2.07 0-2.86zM5.41 20L4 18.59l7.72-7.72 1.47 1.35L5.41 20z\"/>\n",
              "  </svg>\n",
              "      </button>\n",
              "      \n",
              "  <style>\n",
              "    .colab-df-container {\n",
              "      display:flex;\n",
              "      flex-wrap:wrap;\n",
              "      gap: 12px;\n",
              "    }\n",
              "\n",
              "    .colab-df-convert {\n",
              "      background-color: #E8F0FE;\n",
              "      border: none;\n",
              "      border-radius: 50%;\n",
              "      cursor: pointer;\n",
              "      display: none;\n",
              "      fill: #1967D2;\n",
              "      height: 32px;\n",
              "      padding: 0 0 0 0;\n",
              "      width: 32px;\n",
              "    }\n",
              "\n",
              "    .colab-df-convert:hover {\n",
              "      background-color: #E2EBFA;\n",
              "      box-shadow: 0px 1px 2px rgba(60, 64, 67, 0.3), 0px 1px 3px 1px rgba(60, 64, 67, 0.15);\n",
              "      fill: #174EA6;\n",
              "    }\n",
              "\n",
              "    [theme=dark] .colab-df-convert {\n",
              "      background-color: #3B4455;\n",
              "      fill: #D2E3FC;\n",
              "    }\n",
              "\n",
              "    [theme=dark] .colab-df-convert:hover {\n",
              "      background-color: #434B5C;\n",
              "      box-shadow: 0px 1px 3px 1px rgba(0, 0, 0, 0.15);\n",
              "      filter: drop-shadow(0px 1px 2px rgba(0, 0, 0, 0.3));\n",
              "      fill: #FFFFFF;\n",
              "    }\n",
              "  </style>\n",
              "\n",
              "      <script>\n",
              "        const buttonEl =\n",
              "          document.querySelector('#df-1d638b6a-2e82-43a4-b7e2-5fe94586e54d button.colab-df-convert');\n",
              "        buttonEl.style.display =\n",
              "          google.colab.kernel.accessAllowed ? 'block' : 'none';\n",
              "\n",
              "        async function convertToInteractive(key) {\n",
              "          const element = document.querySelector('#df-1d638b6a-2e82-43a4-b7e2-5fe94586e54d');\n",
              "          const dataTable =\n",
              "            await google.colab.kernel.invokeFunction('convertToInteractive',\n",
              "                                                     [key], {});\n",
              "          if (!dataTable) return;\n",
              "\n",
              "          const docLinkHtml = 'Like what you see? Visit the ' +\n",
              "            '<a target=\"_blank\" href=https://colab.research.google.com/notebooks/data_table.ipynb>data table notebook</a>'\n",
              "            + ' to learn more about interactive tables.';\n",
              "          element.innerHTML = '';\n",
              "          dataTable['output_type'] = 'display_data';\n",
              "          await google.colab.output.renderOutput(dataTable, element);\n",
              "          const docLink = document.createElement('div');\n",
              "          docLink.innerHTML = docLinkHtml;\n",
              "          element.appendChild(docLink);\n",
              "        }\n",
              "      </script>\n",
              "    </div>\n",
              "  </div>\n",
              "  "
            ]
          },
          "metadata": {},
          "execution_count": 48
        }
      ]
    },
    {
      "cell_type": "markdown",
      "source": [
        "We can see that we do not have true outliers only potential so we will leave them be since they do not represent problem in data."
      ],
      "metadata": {
        "id": "IIrhdRxpcGIi"
      }
    },
    {
      "cell_type": "code",
      "source": [
        "df2.shape"
      ],
      "metadata": {
        "colab": {
          "base_uri": "https://localhost:8080/"
        },
        "id": "kVfuYLCwbpm5",
        "outputId": "b5c7a8de-4b41-4765-aed1-cd0c9f7b66a1"
      },
      "execution_count": 49,
      "outputs": [
        {
          "output_type": "execute_result",
          "data": {
            "text/plain": [
              "(4546, 5)"
            ]
          },
          "metadata": {},
          "execution_count": 49
        }
      ]
    },
    {
      "cell_type": "markdown",
      "source": [
        "Last step before modeling is to see how our variables are correlated between themselves. We will be doing that by showing triangular correlation matrix, precisely using Spearman's correlation matrix of rank."
      ],
      "metadata": {
        "id": "JBIxW56q1L0i"
      }
    },
    {
      "cell_type": "code",
      "source": [
        "# Correlation matrix\n",
        "import matplotlib\n",
        "correlations = df2.corr(method=\"spearman\")\n",
        "params = {'axes.titlesize':'9',\n",
        "          'xtick.labelsize':'11',\n",
        "          'ytick.labelsize':'11'}\n",
        "matplotlib.rcParams.update(params)\n",
        "fig, ax = plt.subplots(figsize=(10,9))\n",
        "mask = np.zeros(correlations.shape)\n",
        "upper_triangle_indices = np.triu_indices_from(mask)\n",
        "mask[upper_triangle_indices] = True\n",
        "sns.heatmap(correlations, fmt= \".3f\", annot=True, annot_kws={\"size\":11}, cmap= 'coolwarm', center=0, mask = mask)\n",
        "plt.yticks(rotation=0)\n",
        "plt.show()"
      ],
      "metadata": {
        "colab": {
          "base_uri": "https://localhost:8080/",
          "height": 537
        },
        "id": "KHq4fXgucDW0",
        "outputId": "d23f2ac4-595a-417f-8adf-87488c66c63c"
      },
      "execution_count": 50,
      "outputs": [
        {
          "output_type": "display_data",
          "data": {
            "text/plain": [
              "<Figure size 720x648 with 2 Axes>"
            ],
            "image/png": "[encoded data removed]"
          },
          "metadata": {
            "needs_background": "light"
          }
        }
      ]
    },
    {
      "cell_type": "markdown",
      "source": [
        "Based on the triangular correlation matrix, we see that there is an almost perfect correlation between the variable Sales and TV, which means that the movement of the variable Sales is completely defined by the movement of the variable TV. As for the other variables, there is a strong direct correlation between the Sales and Radio variables, and there is a moderate direct correlation between the Sales and Social Media variables. As for the variable Influencer, although its direction of movement is inverse to the movement of other variables and especially the dependent variable Sales, the value of the coefficient is too small to be taken into account when building the model."
      ],
      "metadata": {
        "id": "3pWqL0gvhaeS"
      }
    },
    {
      "cell_type": "markdown",
      "source": [
        "###Modeling\n",
        "In this section we will be choosing whitch variables will be X and whitch one y, dividing our data set on test and train data and build our regression model."
      ],
      "metadata": {
        "id": "m6PBLV8N2MFn"
      }
    },
    {
      "cell_type": "code",
      "source": [
        "#Defining whitch variables will be X (independent) and whitch one will be y (dependent)\n",
        "\n",
        "X = df2.drop(columns = ['Influencer', 'Sales'], axis = 1)\n",
        "y = df2[['Sales']]"
      ],
      "metadata": {
        "id": "4MTSPpY-ceg-"
      },
      "execution_count": 51,
      "outputs": []
    },
    {
      "cell_type": "code",
      "source": [
        "#Dividing our dataset on train and test data\n",
        "X_train, X_test, y_train, y_test = train_test_split(X, y, test_size = 0.3, random_state = 1)"
      ],
      "metadata": {
        "id": "DhpXSkQ7jNjc"
      },
      "execution_count": 52,
      "outputs": []
    },
    {
      "cell_type": "code",
      "source": [
        "#Building our linear regression model\n",
        "lr = LinearRegression()\n",
        "lr.fit(X_train, y_train)"
      ],
      "metadata": {
        "colab": {
          "base_uri": "https://localhost:8080/"
        },
        "id": "-mL3-76cjOn3",
        "outputId": "39918ee5-6ad4-43ab-968e-7637b170895e"
      },
      "execution_count": 53,
      "outputs": [
        {
          "output_type": "execute_result",
          "data": {
            "text/plain": [
              "LinearRegression()"
            ]
          },
          "metadata": {},
          "execution_count": 53
        }
      ]
    },
    {
      "cell_type": "code",
      "source": [
        "#We use our trained model on test data\n",
        "y_pred_lr = lr.predict(X_test)"
      ],
      "metadata": {
        "id": "ilNFp3z4kO1v"
      },
      "execution_count": 54,
      "outputs": []
    },
    {
      "cell_type": "markdown",
      "source": [
        "###Evaluation"
      ],
      "metadata": {
        "id": "UrOPr-4z2cY2"
      }
    },
    {
      "cell_type": "markdown",
      "source": [
        "After training and using our model for prediction we will evaluate our model to see whether our predictions are close to real data. Since this is linear regression model we are going to use the following metrics: Mean Absolute Error, Rooth Mean Squared Error as absolute metrics and R2 as relative metric."
      ],
      "metadata": {
        "id": "1UFhXEQT4tUQ"
      }
    },
    {
      "cell_type": "code",
      "source": [
        "from sklearn.metrics import r2_score, mean_absolute_error\n",
        "import math\n",
        "from sklearn import metrics\n",
        "\n",
        "print('Root Mean Squared Error: ', math.sqrt(metrics.mean_squared_error(y_test, y_pred_lr)))\n",
        "print('Mean Absolute Error: ', mean_absolute_error(y_test, y_pred_lr))\n",
        "print(\"R2_sccore =\",r2_score(y_test, y_pred_lr))"
      ],
      "metadata": {
        "colab": {
          "base_uri": "https://localhost:8080/"
        },
        "outputId": "72c705f9-90a1-4a25-ed28-feae21638277",
        "id": "gmf_nqmbkpVP"
      },
      "execution_count": 55,
      "outputs": [
        {
          "output_type": "stream",
          "name": "stdout",
          "text": [
            "Root Mean Squared Error:  3.0017772974321093\n",
            "Mean Absolute Error:  2.41736159457942\n",
            "R2_sccore = 0.9989658408469502\n"
          ]
        }
      ]
    },
    {
      "cell_type": "code",
      "source": [
        "print('intercept:', lr.intercept_)\n",
        "print('slope:', lr.coef_)"
      ],
      "metadata": {
        "colab": {
          "base_uri": "https://localhost:8080/"
        },
        "id": "yAhLUR5yke0r",
        "outputId": "a309c79e-b474-4e89-f21d-4a008e8876e4"
      },
      "execution_count": 56,
      "outputs": [
        {
          "output_type": "stream",
          "name": "stdout",
          "text": [
            "intercept: [-0.14496668]\n",
            "slope: [[ 3.56638938 -0.0157049   0.01046961]]\n"
          ]
        }
      ]
    },
    {
      "cell_type": "markdown",
      "source": [
        "Our metrics have shown us that our model is excellent since 99.897% of variations of variable Sales can be explained with joint variations of variables TV, Radio and Social Media."
      ],
      "metadata": {
        "id": "PBWnvdh75nTp"
      }
    },
    {
      "cell_type": "markdown",
      "source": [
        "###Modeling 2"
      ],
      "metadata": {
        "id": "wUFwRFXY2fo4"
      }
    },
    {
      "cell_type": "markdown",
      "source": [
        "But something is not to be excluded, and that is fact that since correlation between TV and Sales is almost 1 (0.999) we can use only that one variable for building our model so our multiple linear regression model becomes simple linear regression model."
      ],
      "metadata": {
        "id": "b6ss-eGz6KtC"
      }
    },
    {
      "cell_type": "code",
      "source": [
        "X2 = df2[['TV']]\n",
        "y2 = df2[['Sales']]\n",
        "X2_train, X2_test, y2_train, y2_test = train_test_split(X2, y2, test_size = 0.3, random_state = 1)\n"
      ],
      "metadata": {
        "id": "SshrmVn9qsTM"
      },
      "execution_count": 57,
      "outputs": []
    },
    {
      "cell_type": "code",
      "source": [
        "lr2 = LinearRegression()\n",
        "lr2.fit(X2_train, y2_train)"
      ],
      "metadata": {
        "colab": {
          "base_uri": "https://localhost:8080/"
        },
        "id": "xnjMBXDnuADv",
        "outputId": "05ecb261-bb1f-43e9-e2fd-1e379eb7c48b"
      },
      "execution_count": 58,
      "outputs": [
        {
          "output_type": "execute_result",
          "data": {
            "text/plain": [
              "LinearRegression()"
            ]
          },
          "metadata": {},
          "execution_count": 58
        }
      ]
    },
    {
      "cell_type": "code",
      "source": [
        "y2_pred_lr = lr2.predict(X2_test)"
      ],
      "metadata": {
        "id": "RoVtn9w1uFNj"
      },
      "execution_count": 59,
      "outputs": []
    },
    {
      "cell_type": "markdown",
      "source": [
        "###Evaluation 2"
      ],
      "metadata": {
        "id": "xMLtSrW02i9-"
      }
    },
    {
      "cell_type": "code",
      "source": [
        "print('Root Mean Squared Error: ', math.sqrt(metrics.mean_squared_error(y2_test, y2_pred_lr)))\n",
        "print('Mean Absolute Error: ', mean_absolute_error(y2_test, y2_pred_lr))\n",
        "print(\"R2_sccore =\",r2_score(y2_test, y2_pred_lr))"
      ],
      "metadata": {
        "colab": {
          "base_uri": "https://localhost:8080/"
        },
        "id": "HrgTKULwuKpm",
        "outputId": "00b3bf4a-26a6-4e83-b0b7-81639b2dd48a"
      },
      "execution_count": 60,
      "outputs": [
        {
          "output_type": "stream",
          "name": "stdout",
          "text": [
            "Root Mean Squared Error:  2.998430435508499\n",
            "Mean Absolute Error:  2.4149237582372844\n",
            "R2_sccore = 0.9989681456537405\n"
          ]
        }
      ]
    },
    {
      "cell_type": "code",
      "source": [
        "print('intercept:', lr2.intercept_)\n",
        "print('slope:', lr2.coef_)"
      ],
      "metadata": {
        "colab": {
          "base_uri": "https://localhost:8080/"
        },
        "id": "UpP1_-lZuVUQ",
        "outputId": "478cea25-387c-4bca-e57a-2afb93d495bc"
      },
      "execution_count": 61,
      "outputs": [
        {
          "output_type": "stream",
          "name": "stdout",
          "text": [
            "intercept: [-0.1470831]\n",
            "slope: [[3.56178889]]\n"
          ]
        }
      ]
    },
    {
      "cell_type": "markdown",
      "source": [
        "We can see that results do not differ from the previous ones so we can freely use only variable TV to predict the variable Sales."
      ],
      "metadata": {
        "id": "l1xd7inQ60S5"
      }
    },
    {
      "cell_type": "code",
      "source": [
        ""
      ],
      "metadata": {
        "id": "fvBNqx4buhyJ"
      },
      "execution_count": null,
      "outputs": []
    }
  ]
}